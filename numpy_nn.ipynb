{
  "nbformat": 4,
  "nbformat_minor": 0,
  "metadata": {
    "colab": {
      "name": "numpy_nn.ipynb",
      "provenance": []
    },
    "kernelspec": {
      "name": "python3",
      "display_name": "Python 3"
    }
  },
  "cells": [
    {
      "cell_type": "markdown",
      "metadata": {
        "id": "Z4tcQ2V1fhT8",
        "colab_type": "text"
      },
      "source": [
        "### Zadania\n",
        "\n",
        "1. Dodać iteracje do treningu\n",
        "2. Dodać rysunek zmian strat w kolejnych iteracjach"
      ]
    },
    {
      "cell_type": "code",
      "metadata": {
        "id": "IqgyOy4Qso7v",
        "colab_type": "code",
        "colab": {
          "base_uri": "https://localhost:8080/",
          "height": 34
        },
        "outputId": "15abb9d0-4dea-4ba7-ceb2-0fd17d2fbb67"
      },
      "source": [
        "import numpy as np\n",
        "import matplotlib.pyplot as plt\n",
        "\n",
        "# N is batch size; D_in is input dimension;\n",
        "# H is hidden dimension; D_out is output dimension.\n",
        "N, D_in, H, D_out = 16, 4, 0, 1\n",
        "\n",
        "# Create random input and output data\n",
        "\n",
        "x_numpy = np.array(    [[0., 0., 0., 1.],\n",
        "                        [1., 0., 0., 1.],\n",
        "                        [0., 1., 0., 1.],\n",
        "                        [0., 0., 1., 1.],\n",
        "                        [1., 1., 0., 1.],\n",
        "                        [1., 0., 1., 1.],\n",
        "                        [0., 1., 1., 1.],\n",
        "                        [1., 1., 1., 1.],\n",
        "                        [0., 0., 0., 0.],\n",
        "                        [1., 0., 0., 0.],                          [0., 1., 0., 0.],\n",
        "                        [0., 0., 1., 0.],\n",
        "                        [1., 1., 0., 0.],\n",
        "                        [1., 0., 1., 0.],\n",
        "                        [0., 1., 1., 0.],\n",
        "                        [1., 1., 1., 0.]])\n",
        "\n",
        "print(x_numpy.shape)"
      ],
      "execution_count": 107,
      "outputs": [
        {
          "output_type": "stream",
          "text": [
            "(16, 4)\n"
          ],
          "name": "stdout"
        }
      ]
    },
    {
      "cell_type": "code",
      "metadata": {
        "id": "HyAwvfvmSV4l",
        "colab_type": "code",
        "colab": {
          "base_uri": "https://localhost:8080/",
          "height": 34
        },
        "outputId": "697b3ade-6c4a-45fd-8981-579eafbd9b07"
      },
      "source": [
        "y_numpy = np.array(     [[1.],\n",
        "                         [1.],\n",
        "                         [1.],\n",
        "                         [1.],\n",
        "                         [1.],\n",
        "                         [1.],\n",
        "                         [1.],\n",
        "                         [1.],\n",
        "                         [0.],\n",
        "                         [0.],\n",
        "                         [0.],\n",
        "                         [0.],\n",
        "                         [0.],\n",
        "                         [0.],\n",
        "                         [0.],\n",
        "                         [0.]])\n",
        "\n",
        "\n",
        "print(y_numpy.shape)"
      ],
      "execution_count": 109,
      "outputs": [
        {
          "output_type": "stream",
          "text": [
            "(16, 1)\n"
          ],
          "name": "stdout"
        }
      ]
    },
    {
      "cell_type": "code",
      "metadata": {
        "id": "7YJNoruLSXgk",
        "colab_type": "code",
        "colab": {
          "base_uri": "https://localhost:8080/",
          "height": 101
        },
        "outputId": "5a7ca5c4-3aed-4668-aadc-096ac84ad8f9"
      },
      "source": [
        "# Randomly initialize weights\n",
        "w = np.random.randn(D_in, D_out)\n",
        "\n",
        "print(w)\n",
        "print(w.shape)"
      ],
      "execution_count": 110,
      "outputs": [
        {
          "output_type": "stream",
          "text": [
            "[[-1.85455984]\n",
            " [-0.82947485]\n",
            " [-0.18467993]\n",
            " [-0.95017203]]\n",
            "(4, 1)\n"
          ],
          "name": "stdout"
        }
      ]
    },
    {
      "cell_type": "code",
      "metadata": {
        "id": "HPFz65FiPKmn",
        "colab_type": "code",
        "colab": {}
      },
      "source": [
        "learning_rate = 0.001\n",
        "loss_list = []\n",
        "\n"
      ],
      "execution_count": 0,
      "outputs": []
    },
    {
      "cell_type": "code",
      "metadata": {
        "id": "NNm6egQBaLdy",
        "colab_type": "code",
        "colab": {
          "base_uri": "https://localhost:8080/",
          "height": 286
        },
        "outputId": "7c63cb73-e5a8-48a1-fc46-91673598dee7"
      },
      "source": [
        "# Forward pass: compute predicted y\n",
        "y_pred = x_numpy.dot(w)\n",
        "print(y_pred)\n"
      ],
      "execution_count": 112,
      "outputs": [
        {
          "output_type": "stream",
          "text": [
            "[[-0.95017203]\n",
            " [-2.80473188]\n",
            " [-1.77964688]\n",
            " [-1.13485196]\n",
            " [-3.63420673]\n",
            " [-2.9894118 ]\n",
            " [-1.96432681]\n",
            " [-3.81888665]\n",
            " [ 0.        ]\n",
            " [-1.85455984]\n",
            " [-0.82947485]\n",
            " [-0.18467993]\n",
            " [-2.68403469]\n",
            " [-2.03923977]\n",
            " [-1.01415478]\n",
            " [-2.86871462]]\n"
          ],
          "name": "stdout"
        }
      ]
    },
    {
      "cell_type": "code",
      "metadata": {
        "id": "pUWfDOFtSgIm",
        "colab_type": "code",
        "colab": {
          "base_uri": "https://localhost:8080/",
          "height": 84
        },
        "outputId": "51e3ddb5-1181-4463-cc9d-d9db783c5117"
      },
      "source": [
        "# Compute and print loss\n",
        "for i in range(5000):\n",
        "      loss = np.square(y_pred - y_numpy).sum()\n",
        "      loss_list.append(loss)\n",
        "      # Backprop to compute gradients of w1 and w2 with respect to loss\n",
        "      grad_y_pred = 2.0 * (y_pred - y_numpy)\n",
        "      grad_w = x_numpy.T.dot(grad_y_pred)\n",
        "\n",
        "      # Update weights\n",
        "      w = w - learning_rate * grad_w\n",
        "      y_pred = x_numpy.dot(w)\n",
        "print(w)"
      ],
      "execution_count": 113,
      "outputs": [
        {
          "output_type": "stream",
          "text": [
            "[[1.35119359e-15]\n",
            " [1.38729018e-15]\n",
            " [1.36877906e-15]\n",
            " [1.00000000e+00]]\n"
          ],
          "name": "stdout"
        }
      ]
    },
    {
      "cell_type": "code",
      "metadata": {
        "id": "KBRbjAooSzs3",
        "colab_type": "code",
        "colab": {}
      },
      "source": [
        ""
      ],
      "execution_count": 0,
      "outputs": []
    },
    {
      "cell_type": "code",
      "metadata": {
        "id": "heXJqSquaVh4",
        "colab_type": "code",
        "colab": {
          "base_uri": "https://localhost:8080/",
          "height": 265
        },
        "outputId": "f73ffefa-83be-455e-9f76-5d38984ceae2"
      },
      "source": [
        "plt.plot(loss_list, label = 'loss')\n",
        "plt.legend()\n",
        "plt.show()"
      ],
      "execution_count": 114,
      "outputs": [
        {
          "output_type": "display_data",
          "data": {
            "image/png": "[encoded data removed]",
            "text/plain": [
              "<Figure size 432x288 with 1 Axes>"
            ]
          },
          "metadata": {
            "tags": []
          }
        }
      ]
    },
    {
      "cell_type": "code",
      "metadata": {
        "id": "j-WQQA9COshP",
        "colab_type": "code",
        "colab": {}
      },
      "source": [
        ""
      ],
      "execution_count": 0,
      "outputs": []
    }
  ]
}